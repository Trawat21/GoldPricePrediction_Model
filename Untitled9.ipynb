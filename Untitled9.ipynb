{
  "nbformat": 4,
  "nbformat_minor": 0,
  "metadata": {
    "colab": {
      "provenance": []
    },
    "kernelspec": {
      "name": "python3",
      "display_name": "Python 3"
    },
    "language_info": {
      "name": "python"
    }
  },
  "cells": [
    {
      "cell_type": "code",
      "execution_count": 6,
      "metadata": {
        "id": "dWjbotwYn159"
      },
      "outputs": [],
      "source": [
        "import numpy as np\n",
        "import pandas as pd\n",
        "import matplotlib.pyplot as plt\n",
        "import seaborn as sns\n",
        "from sklearn.model_selection import train_test_split\n",
        "from sklearn.ensemble import RandomForestRegressor\n",
        "from sklearn import metrics\n"
      ]
    },
    {
      "cell_type": "code",
      "source": [
        "gold_data = pd.read_csv('gld_price_data.csv')"
      ],
      "metadata": {
        "id": "BoU-LADGqo19"
      },
      "execution_count": 8,
      "outputs": []
    },
    {
      "cell_type": "code",
      "source": [],
      "metadata": {
        "id": "HVqNd8GtYC6w"
      },
      "execution_count": null,
      "outputs": []
    },
    {
      "cell_type": "code",
      "source": [
        "gold_data.head()"
      ],
      "metadata": {
        "colab": {
          "base_uri": "https://localhost:8080/",
          "height": 206
        },
        "id": "yh2Sr-tYrX4H",
        "outputId": "9451747b-7450-4eca-f51f-cb3623df9697"
      },
      "execution_count": 9,
      "outputs": [
        {
          "output_type": "execute_result",
          "data": {
            "text/plain": [
              "       Date          SPX        GLD        USO     SLV   EUR/USD\n",
              "0  1/2/2008  1447.160034  84.860001  78.470001  15.180  1.471692\n",
              "1  1/3/2008  1447.160034  85.570000  78.370003  15.285  1.474491\n",
              "2  1/4/2008  1411.630005  85.129997  77.309998  15.167  1.475492\n",
              "3  1/7/2008  1416.180054  84.769997  75.500000  15.053  1.468299\n",
              "4  1/8/2008  1390.189941  86.779999  76.059998  15.590  1.557099"
            ],
            "text/html": [
              "\n",
              "  <div id=\"df-ce856c76-14ef-4546-a789-a014769e00ab\" class=\"colab-df-container\">\n",
              "    <div>\n",
              "<style scoped>\n",
              "    .dataframe tbody tr th:only-of-type {\n",
              "        vertical-align: middle;\n",
              "    }\n",
              "\n",
              "    .dataframe tbody tr th {\n",
              "        vertical-align: top;\n",
              "    }\n",
              "\n",
              "    .dataframe thead th {\n",
              "        text-align: right;\n",
              "    }\n",
              "</style>\n",
              "<table border=\"1\" class=\"dataframe\">\n",
              "  <thead>\n",
              "    <tr style=\"text-align: right;\">\n",
              "      <th></th>\n",
              "      <th>Date</th>\n",
              "      <th>SPX</th>\n",
              "      <th>GLD</th>\n",
              "      <th>USO</th>\n",
              "      <th>SLV</th>\n",
              "      <th>EUR/USD</th>\n",
              "    </tr>\n",
              "  </thead>\n",
              "  <tbody>\n",
              "    <tr>\n",
              "      <th>0</th>\n",
              "      <td>1/2/2008</td>\n",
              "      <td>1447.160034</td>\n",
              "      <td>84.860001</td>\n",
              "      <td>78.470001</td>\n",
              "      <td>15.180</td>\n",
              "      <td>1.471692</td>\n",
              "    </tr>\n",
              "    <tr>\n",
              "      <th>1</th>\n",
              "      <td>1/3/2008</td>\n",
              "      <td>1447.160034</td>\n",
              "      <td>85.570000</td>\n",
              "      <td>78.370003</td>\n",
              "      <td>15.285</td>\n",
              "      <td>1.474491</td>\n",
              "    </tr>\n",
              "    <tr>\n",
              "      <th>2</th>\n",
              "      <td>1/4/2008</td>\n",
              "      <td>1411.630005</td>\n",
              "      <td>85.129997</td>\n",
              "      <td>77.309998</td>\n",
              "      <td>15.167</td>\n",
              "      <td>1.475492</td>\n",
              "    </tr>\n",
              "    <tr>\n",
              "      <th>3</th>\n",
              "      <td>1/7/2008</td>\n",
              "      <td>1416.180054</td>\n",
              "      <td>84.769997</td>\n",
              "      <td>75.500000</td>\n",
              "      <td>15.053</td>\n",
              "      <td>1.468299</td>\n",
              "    </tr>\n",
              "    <tr>\n",
              "      <th>4</th>\n",
              "      <td>1/8/2008</td>\n",
              "      <td>1390.189941</td>\n",
              "      <td>86.779999</td>\n",
              "      <td>76.059998</td>\n",
              "      <td>15.590</td>\n",
              "      <td>1.557099</td>\n",
              "    </tr>\n",
              "  </tbody>\n",
              "</table>\n",
              "</div>\n",
              "    <div class=\"colab-df-buttons\">\n",
              "\n",
              "  <div class=\"colab-df-container\">\n",
              "    <button class=\"colab-df-convert\" onclick=\"convertToInteractive('df-ce856c76-14ef-4546-a789-a014769e00ab')\"\n",
              "            title=\"Convert this dataframe to an interactive table.\"\n",
              "            style=\"display:none;\">\n",
              "\n",
              "  <svg xmlns=\"http://www.w3.org/2000/svg\" height=\"24px\" viewBox=\"0 -960 960 960\">\n",
              "    <path d=\"M120-120v-720h720v720H120Zm60-500h600v-160H180v160Zm220 220h160v-160H400v160Zm0 220h160v-160H400v160ZM180-400h160v-160H180v160Zm440 0h160v-160H620v160ZM180-180h160v-160H180v160Zm440 0h160v-160H620v160Z\"/>\n",
              "  </svg>\n",
              "    </button>\n",
              "\n",
              "  <style>\n",
              "    .colab-df-container {\n",
              "      display:flex;\n",
              "      gap: 12px;\n",
              "    }\n",
              "\n",
              "    .colab-df-convert {\n",
              "      background-color: #E8F0FE;\n",
              "      border: none;\n",
              "      border-radius: 50%;\n",
              "      cursor: pointer;\n",
              "      display: none;\n",
              "      fill: #1967D2;\n",
              "      height: 32px;\n",
              "      padding: 0 0 0 0;\n",
              "      width: 32px;\n",
              "    }\n",
              "\n",
              "    .colab-df-convert:hover {\n",
              "      background-color: #E2EBFA;\n",
              "      box-shadow: 0px 1px 2px rgba(60, 64, 67, 0.3), 0px 1px 3px 1px rgba(60, 64, 67, 0.15);\n",
              "      fill: #174EA6;\n",
              "    }\n",
              "\n",
              "    .colab-df-buttons div {\n",
              "      margin-bottom: 4px;\n",
              "    }\n",
              "\n",
              "    [theme=dark] .colab-df-convert {\n",
              "      background-color: #3B4455;\n",
              "      fill: #D2E3FC;\n",
              "    }\n",
              "\n",
              "    [theme=dark] .colab-df-convert:hover {\n",
              "      background-color: #434B5C;\n",
              "      box-shadow: 0px 1px 3px 1px rgba(0, 0, 0, 0.15);\n",
              "      filter: drop-shadow(0px 1px 2px rgba(0, 0, 0, 0.3));\n",
              "      fill: #FFFFFF;\n",
              "    }\n",
              "  </style>\n",
              "\n",
              "    <script>\n",
              "      const buttonEl =\n",
              "        document.querySelector('#df-ce856c76-14ef-4546-a789-a014769e00ab button.colab-df-convert');\n",
              "      buttonEl.style.display =\n",
              "        google.colab.kernel.accessAllowed ? 'block' : 'none';\n",
              "\n",
              "      async function convertToInteractive(key) {\n",
              "        const element = document.querySelector('#df-ce856c76-14ef-4546-a789-a014769e00ab');\n",
              "        const dataTable =\n",
              "          await google.colab.kernel.invokeFunction('convertToInteractive',\n",
              "                                                    [key], {});\n",
              "        if (!dataTable) return;\n",
              "\n",
              "        const docLinkHtml = 'Like what you see? Visit the ' +\n",
              "          '<a target=\"_blank\" href=https://colab.research.google.com/notebooks/data_table.ipynb>data table notebook</a>'\n",
              "          + ' to learn more about interactive tables.';\n",
              "        element.innerHTML = '';\n",
              "        dataTable['output_type'] = 'display_data';\n",
              "        await google.colab.output.renderOutput(dataTable, element);\n",
              "        const docLink = document.createElement('div');\n",
              "        docLink.innerHTML = docLinkHtml;\n",
              "        element.appendChild(docLink);\n",
              "      }\n",
              "    </script>\n",
              "  </div>\n",
              "\n",
              "\n",
              "<div id=\"df-376be2a2-c4e3-4f19-8d2f-ed03f7854362\">\n",
              "  <button class=\"colab-df-quickchart\" onclick=\"quickchart('df-376be2a2-c4e3-4f19-8d2f-ed03f7854362')\"\n",
              "            title=\"Suggest charts.\"\n",
              "            style=\"display:none;\">\n",
              "\n",
              "<svg xmlns=\"http://www.w3.org/2000/svg\" height=\"24px\"viewBox=\"0 0 24 24\"\n",
              "     width=\"24px\">\n",
              "    <g>\n",
              "        <path d=\"M19 3H5c-1.1 0-2 .9-2 2v14c0 1.1.9 2 2 2h14c1.1 0 2-.9 2-2V5c0-1.1-.9-2-2-2zM9 17H7v-7h2v7zm4 0h-2V7h2v10zm4 0h-2v-4h2v4z\"/>\n",
              "    </g>\n",
              "</svg>\n",
              "  </button>\n",
              "\n",
              "<style>\n",
              "  .colab-df-quickchart {\n",
              "      --bg-color: #E8F0FE;\n",
              "      --fill-color: #1967D2;\n",
              "      --hover-bg-color: #E2EBFA;\n",
              "      --hover-fill-color: #174EA6;\n",
              "      --disabled-fill-color: #AAA;\n",
              "      --disabled-bg-color: #DDD;\n",
              "  }\n",
              "\n",
              "  [theme=dark] .colab-df-quickchart {\n",
              "      --bg-color: #3B4455;\n",
              "      --fill-color: #D2E3FC;\n",
              "      --hover-bg-color: #434B5C;\n",
              "      --hover-fill-color: #FFFFFF;\n",
              "      --disabled-bg-color: #3B4455;\n",
              "      --disabled-fill-color: #666;\n",
              "  }\n",
              "\n",
              "  .colab-df-quickchart {\n",
              "    background-color: var(--bg-color);\n",
              "    border: none;\n",
              "    border-radius: 50%;\n",
              "    cursor: pointer;\n",
              "    display: none;\n",
              "    fill: var(--fill-color);\n",
              "    height: 32px;\n",
              "    padding: 0;\n",
              "    width: 32px;\n",
              "  }\n",
              "\n",
              "  .colab-df-quickchart:hover {\n",
              "    background-color: var(--hover-bg-color);\n",
              "    box-shadow: 0 1px 2px rgba(60, 64, 67, 0.3), 0 1px 3px 1px rgba(60, 64, 67, 0.15);\n",
              "    fill: var(--button-hover-fill-color);\n",
              "  }\n",
              "\n",
              "  .colab-df-quickchart-complete:disabled,\n",
              "  .colab-df-quickchart-complete:disabled:hover {\n",
              "    background-color: var(--disabled-bg-color);\n",
              "    fill: var(--disabled-fill-color);\n",
              "    box-shadow: none;\n",
              "  }\n",
              "\n",
              "  .colab-df-spinner {\n",
              "    border: 2px solid var(--fill-color);\n",
              "    border-color: transparent;\n",
              "    border-bottom-color: var(--fill-color);\n",
              "    animation:\n",
              "      spin 1s steps(1) infinite;\n",
              "  }\n",
              "\n",
              "  @keyframes spin {\n",
              "    0% {\n",
              "      border-color: transparent;\n",
              "      border-bottom-color: var(--fill-color);\n",
              "      border-left-color: var(--fill-color);\n",
              "    }\n",
              "    20% {\n",
              "      border-color: transparent;\n",
              "      border-left-color: var(--fill-color);\n",
              "      border-top-color: var(--fill-color);\n",
              "    }\n",
              "    30% {\n",
              "      border-color: transparent;\n",
              "      border-left-color: var(--fill-color);\n",
              "      border-top-color: var(--fill-color);\n",
              "      border-right-color: var(--fill-color);\n",
              "    }\n",
              "    40% {\n",
              "      border-color: transparent;\n",
              "      border-right-color: var(--fill-color);\n",
              "      border-top-color: var(--fill-color);\n",
              "    }\n",
              "    60% {\n",
              "      border-color: transparent;\n",
              "      border-right-color: var(--fill-color);\n",
              "    }\n",
              "    80% {\n",
              "      border-color: transparent;\n",
              "      border-right-color: var(--fill-color);\n",
              "      border-bottom-color: var(--fill-color);\n",
              "    }\n",
              "    90% {\n",
              "      border-color: transparent;\n",
              "      border-bottom-color: var(--fill-color);\n",
              "    }\n",
              "  }\n",
              "</style>\n",
              "\n",
              "  <script>\n",
              "    async function quickchart(key) {\n",
              "      const quickchartButtonEl =\n",
              "        document.querySelector('#' + key + ' button');\n",
              "      quickchartButtonEl.disabled = true;  // To prevent multiple clicks.\n",
              "      quickchartButtonEl.classList.add('colab-df-spinner');\n",
              "      try {\n",
              "        const charts = await google.colab.kernel.invokeFunction(\n",
              "            'suggestCharts', [key], {});\n",
              "      } catch (error) {\n",
              "        console.error('Error during call to suggestCharts:', error);\n",
              "      }\n",
              "      quickchartButtonEl.classList.remove('colab-df-spinner');\n",
              "      quickchartButtonEl.classList.add('colab-df-quickchart-complete');\n",
              "    }\n",
              "    (() => {\n",
              "      let quickchartButtonEl =\n",
              "        document.querySelector('#df-376be2a2-c4e3-4f19-8d2f-ed03f7854362 button');\n",
              "      quickchartButtonEl.style.display =\n",
              "        google.colab.kernel.accessAllowed ? 'block' : 'none';\n",
              "    })();\n",
              "  </script>\n",
              "</div>\n",
              "    </div>\n",
              "  </div>\n"
            ]
          },
          "metadata": {},
          "execution_count": 9
        }
      ]
    },
    {
      "cell_type": "code",
      "source": [
        "gold_data.shape"
      ],
      "metadata": {
        "colab": {
          "base_uri": "https://localhost:8080/"
        },
        "id": "IPN1wRaDsJCx",
        "outputId": "1fc0a5e3-1095-40af-d0bc-e7282d070fa0"
      },
      "execution_count": 6,
      "outputs": [
        {
          "output_type": "execute_result",
          "data": {
            "text/plain": [
              "(2290, 6)"
            ]
          },
          "metadata": {},
          "execution_count": 6
        }
      ]
    },
    {
      "cell_type": "code",
      "source": [
        "gold_data.info()"
      ],
      "metadata": {
        "colab": {
          "base_uri": "https://localhost:8080/"
        },
        "id": "zcKX7oNeszjK",
        "outputId": "fc196dd2-5108-4ea1-da81-f9592dda8255"
      },
      "execution_count": 10,
      "outputs": [
        {
          "output_type": "stream",
          "name": "stdout",
          "text": [
            "<class 'pandas.core.frame.DataFrame'>\n",
            "RangeIndex: 2290 entries, 0 to 2289\n",
            "Data columns (total 6 columns):\n",
            " #   Column   Non-Null Count  Dtype  \n",
            "---  ------   --------------  -----  \n",
            " 0   Date     2290 non-null   object \n",
            " 1   SPX      2290 non-null   float64\n",
            " 2   GLD      2290 non-null   float64\n",
            " 3   USO      2290 non-null   float64\n",
            " 4   SLV      2290 non-null   float64\n",
            " 5   EUR/USD  2290 non-null   float64\n",
            "dtypes: float64(5), object(1)\n",
            "memory usage: 107.5+ KB\n"
          ]
        }
      ]
    },
    {
      "cell_type": "code",
      "source": [
        "gold_data.isnull().sum()\n"
      ],
      "metadata": {
        "colab": {
          "base_uri": "https://localhost:8080/"
        },
        "id": "R4W4tYZAtLrv",
        "outputId": "f22f8daa-03a5-4937-d17a-0bd746bfe7f2"
      },
      "execution_count": 8,
      "outputs": [
        {
          "output_type": "execute_result",
          "data": {
            "text/plain": [
              "Date       0\n",
              "SPX        0\n",
              "GLD        0\n",
              "USO        0\n",
              "SLV        0\n",
              "EUR/USD    0\n",
              "dtype: int64"
            ]
          },
          "metadata": {},
          "execution_count": 8
        }
      ]
    },
    {
      "cell_type": "code",
      "source": [
        "gold_data.describe()"
      ],
      "metadata": {
        "colab": {
          "base_uri": "https://localhost:8080/",
          "height": 300
        },
        "id": "nnKVtFhwtbnP",
        "outputId": "724190f2-4122-4855-d6d8-210e04068246"
      },
      "execution_count": 11,
      "outputs": [
        {
          "output_type": "execute_result",
          "data": {
            "text/plain": [
              "               SPX          GLD          USO          SLV      EUR/USD\n",
              "count  2290.000000  2290.000000  2290.000000  2290.000000  2290.000000\n",
              "mean   1654.315776   122.732875    31.842221    20.084997     1.283653\n",
              "std     519.111540    23.283346    19.523517     7.092566     0.131547\n",
              "min     676.530029    70.000000     7.960000     8.850000     1.039047\n",
              "25%    1239.874969   109.725000    14.380000    15.570000     1.171313\n",
              "50%    1551.434998   120.580002    33.869999    17.268500     1.303297\n",
              "75%    2073.010070   132.840004    37.827501    22.882500     1.369971\n",
              "max    2872.870117   184.589996   117.480003    47.259998     1.598798"
            ],
            "text/html": [
              "\n",
              "  <div id=\"df-d1621d2d-ca03-4107-b69f-75544610fe89\" class=\"colab-df-container\">\n",
              "    <div>\n",
              "<style scoped>\n",
              "    .dataframe tbody tr th:only-of-type {\n",
              "        vertical-align: middle;\n",
              "    }\n",
              "\n",
              "    .dataframe tbody tr th {\n",
              "        vertical-align: top;\n",
              "    }\n",
              "\n",
              "    .dataframe thead th {\n",
              "        text-align: right;\n",
              "    }\n",
              "</style>\n",
              "<table border=\"1\" class=\"dataframe\">\n",
              "  <thead>\n",
              "    <tr style=\"text-align: right;\">\n",
              "      <th></th>\n",
              "      <th>SPX</th>\n",
              "      <th>GLD</th>\n",
              "      <th>USO</th>\n",
              "      <th>SLV</th>\n",
              "      <th>EUR/USD</th>\n",
              "    </tr>\n",
              "  </thead>\n",
              "  <tbody>\n",
              "    <tr>\n",
              "      <th>count</th>\n",
              "      <td>2290.000000</td>\n",
              "      <td>2290.000000</td>\n",
              "      <td>2290.000000</td>\n",
              "      <td>2290.000000</td>\n",
              "      <td>2290.000000</td>\n",
              "    </tr>\n",
              "    <tr>\n",
              "      <th>mean</th>\n",
              "      <td>1654.315776</td>\n",
              "      <td>122.732875</td>\n",
              "      <td>31.842221</td>\n",
              "      <td>20.084997</td>\n",
              "      <td>1.283653</td>\n",
              "    </tr>\n",
              "    <tr>\n",
              "      <th>std</th>\n",
              "      <td>519.111540</td>\n",
              "      <td>23.283346</td>\n",
              "      <td>19.523517</td>\n",
              "      <td>7.092566</td>\n",
              "      <td>0.131547</td>\n",
              "    </tr>\n",
              "    <tr>\n",
              "      <th>min</th>\n",
              "      <td>676.530029</td>\n",
              "      <td>70.000000</td>\n",
              "      <td>7.960000</td>\n",
              "      <td>8.850000</td>\n",
              "      <td>1.039047</td>\n",
              "    </tr>\n",
              "    <tr>\n",
              "      <th>25%</th>\n",
              "      <td>1239.874969</td>\n",
              "      <td>109.725000</td>\n",
              "      <td>14.380000</td>\n",
              "      <td>15.570000</td>\n",
              "      <td>1.171313</td>\n",
              "    </tr>\n",
              "    <tr>\n",
              "      <th>50%</th>\n",
              "      <td>1551.434998</td>\n",
              "      <td>120.580002</td>\n",
              "      <td>33.869999</td>\n",
              "      <td>17.268500</td>\n",
              "      <td>1.303297</td>\n",
              "    </tr>\n",
              "    <tr>\n",
              "      <th>75%</th>\n",
              "      <td>2073.010070</td>\n",
              "      <td>132.840004</td>\n",
              "      <td>37.827501</td>\n",
              "      <td>22.882500</td>\n",
              "      <td>1.369971</td>\n",
              "    </tr>\n",
              "    <tr>\n",
              "      <th>max</th>\n",
              "      <td>2872.870117</td>\n",
              "      <td>184.589996</td>\n",
              "      <td>117.480003</td>\n",
              "      <td>47.259998</td>\n",
              "      <td>1.598798</td>\n",
              "    </tr>\n",
              "  </tbody>\n",
              "</table>\n",
              "</div>\n",
              "    <div class=\"colab-df-buttons\">\n",
              "\n",
              "  <div class=\"colab-df-container\">\n",
              "    <button class=\"colab-df-convert\" onclick=\"convertToInteractive('df-d1621d2d-ca03-4107-b69f-75544610fe89')\"\n",
              "            title=\"Convert this dataframe to an interactive table.\"\n",
              "            style=\"display:none;\">\n",
              "\n",
              "  <svg xmlns=\"http://www.w3.org/2000/svg\" height=\"24px\" viewBox=\"0 -960 960 960\">\n",
              "    <path d=\"M120-120v-720h720v720H120Zm60-500h600v-160H180v160Zm220 220h160v-160H400v160Zm0 220h160v-160H400v160ZM180-400h160v-160H180v160Zm440 0h160v-160H620v160ZM180-180h160v-160H180v160Zm440 0h160v-160H620v160Z\"/>\n",
              "  </svg>\n",
              "    </button>\n",
              "\n",
              "  <style>\n",
              "    .colab-df-container {\n",
              "      display:flex;\n",
              "      gap: 12px;\n",
              "    }\n",
              "\n",
              "    .colab-df-convert {\n",
              "      background-color: #E8F0FE;\n",
              "      border: none;\n",
              "      border-radius: 50%;\n",
              "      cursor: pointer;\n",
              "      display: none;\n",
              "      fill: #1967D2;\n",
              "      height: 32px;\n",
              "      padding: 0 0 0 0;\n",
              "      width: 32px;\n",
              "    }\n",
              "\n",
              "    .colab-df-convert:hover {\n",
              "      background-color: #E2EBFA;\n",
              "      box-shadow: 0px 1px 2px rgba(60, 64, 67, 0.3), 0px 1px 3px 1px rgba(60, 64, 67, 0.15);\n",
              "      fill: #174EA6;\n",
              "    }\n",
              "\n",
              "    .colab-df-buttons div {\n",
              "      margin-bottom: 4px;\n",
              "    }\n",
              "\n",
              "    [theme=dark] .colab-df-convert {\n",
              "      background-color: #3B4455;\n",
              "      fill: #D2E3FC;\n",
              "    }\n",
              "\n",
              "    [theme=dark] .colab-df-convert:hover {\n",
              "      background-color: #434B5C;\n",
              "      box-shadow: 0px 1px 3px 1px rgba(0, 0, 0, 0.15);\n",
              "      filter: drop-shadow(0px 1px 2px rgba(0, 0, 0, 0.3));\n",
              "      fill: #FFFFFF;\n",
              "    }\n",
              "  </style>\n",
              "\n",
              "    <script>\n",
              "      const buttonEl =\n",
              "        document.querySelector('#df-d1621d2d-ca03-4107-b69f-75544610fe89 button.colab-df-convert');\n",
              "      buttonEl.style.display =\n",
              "        google.colab.kernel.accessAllowed ? 'block' : 'none';\n",
              "\n",
              "      async function convertToInteractive(key) {\n",
              "        const element = document.querySelector('#df-d1621d2d-ca03-4107-b69f-75544610fe89');\n",
              "        const dataTable =\n",
              "          await google.colab.kernel.invokeFunction('convertToInteractive',\n",
              "                                                    [key], {});\n",
              "        if (!dataTable) return;\n",
              "\n",
              "        const docLinkHtml = 'Like what you see? Visit the ' +\n",
              "          '<a target=\"_blank\" href=https://colab.research.google.com/notebooks/data_table.ipynb>data table notebook</a>'\n",
              "          + ' to learn more about interactive tables.';\n",
              "        element.innerHTML = '';\n",
              "        dataTable['output_type'] = 'display_data';\n",
              "        await google.colab.output.renderOutput(dataTable, element);\n",
              "        const docLink = document.createElement('div');\n",
              "        docLink.innerHTML = docLinkHtml;\n",
              "        element.appendChild(docLink);\n",
              "      }\n",
              "    </script>\n",
              "  </div>\n",
              "\n",
              "\n",
              "<div id=\"df-2f9c1fc0-94a9-4017-967c-cfc1c2a77fc0\">\n",
              "  <button class=\"colab-df-quickchart\" onclick=\"quickchart('df-2f9c1fc0-94a9-4017-967c-cfc1c2a77fc0')\"\n",
              "            title=\"Suggest charts.\"\n",
              "            style=\"display:none;\">\n",
              "\n",
              "<svg xmlns=\"http://www.w3.org/2000/svg\" height=\"24px\"viewBox=\"0 0 24 24\"\n",
              "     width=\"24px\">\n",
              "    <g>\n",
              "        <path d=\"M19 3H5c-1.1 0-2 .9-2 2v14c0 1.1.9 2 2 2h14c1.1 0 2-.9 2-2V5c0-1.1-.9-2-2-2zM9 17H7v-7h2v7zm4 0h-2V7h2v10zm4 0h-2v-4h2v4z\"/>\n",
              "    </g>\n",
              "</svg>\n",
              "  </button>\n",
              "\n",
              "<style>\n",
              "  .colab-df-quickchart {\n",
              "      --bg-color: #E8F0FE;\n",
              "      --fill-color: #1967D2;\n",
              "      --hover-bg-color: #E2EBFA;\n",
              "      --hover-fill-color: #174EA6;\n",
              "      --disabled-fill-color: #AAA;\n",
              "      --disabled-bg-color: #DDD;\n",
              "  }\n",
              "\n",
              "  [theme=dark] .colab-df-quickchart {\n",
              "      --bg-color: #3B4455;\n",
              "      --fill-color: #D2E3FC;\n",
              "      --hover-bg-color: #434B5C;\n",
              "      --hover-fill-color: #FFFFFF;\n",
              "      --disabled-bg-color: #3B4455;\n",
              "      --disabled-fill-color: #666;\n",
              "  }\n",
              "\n",
              "  .colab-df-quickchart {\n",
              "    background-color: var(--bg-color);\n",
              "    border: none;\n",
              "    border-radius: 50%;\n",
              "    cursor: pointer;\n",
              "    display: none;\n",
              "    fill: var(--fill-color);\n",
              "    height: 32px;\n",
              "    padding: 0;\n",
              "    width: 32px;\n",
              "  }\n",
              "\n",
              "  .colab-df-quickchart:hover {\n",
              "    background-color: var(--hover-bg-color);\n",
              "    box-shadow: 0 1px 2px rgba(60, 64, 67, 0.3), 0 1px 3px 1px rgba(60, 64, 67, 0.15);\n",
              "    fill: var(--button-hover-fill-color);\n",
              "  }\n",
              "\n",
              "  .colab-df-quickchart-complete:disabled,\n",
              "  .colab-df-quickchart-complete:disabled:hover {\n",
              "    background-color: var(--disabled-bg-color);\n",
              "    fill: var(--disabled-fill-color);\n",
              "    box-shadow: none;\n",
              "  }\n",
              "\n",
              "  .colab-df-spinner {\n",
              "    border: 2px solid var(--fill-color);\n",
              "    border-color: transparent;\n",
              "    border-bottom-color: var(--fill-color);\n",
              "    animation:\n",
              "      spin 1s steps(1) infinite;\n",
              "  }\n",
              "\n",
              "  @keyframes spin {\n",
              "    0% {\n",
              "      border-color: transparent;\n",
              "      border-bottom-color: var(--fill-color);\n",
              "      border-left-color: var(--fill-color);\n",
              "    }\n",
              "    20% {\n",
              "      border-color: transparent;\n",
              "      border-left-color: var(--fill-color);\n",
              "      border-top-color: var(--fill-color);\n",
              "    }\n",
              "    30% {\n",
              "      border-color: transparent;\n",
              "      border-left-color: var(--fill-color);\n",
              "      border-top-color: var(--fill-color);\n",
              "      border-right-color: var(--fill-color);\n",
              "    }\n",
              "    40% {\n",
              "      border-color: transparent;\n",
              "      border-right-color: var(--fill-color);\n",
              "      border-top-color: var(--fill-color);\n",
              "    }\n",
              "    60% {\n",
              "      border-color: transparent;\n",
              "      border-right-color: var(--fill-color);\n",
              "    }\n",
              "    80% {\n",
              "      border-color: transparent;\n",
              "      border-right-color: var(--fill-color);\n",
              "      border-bottom-color: var(--fill-color);\n",
              "    }\n",
              "    90% {\n",
              "      border-color: transparent;\n",
              "      border-bottom-color: var(--fill-color);\n",
              "    }\n",
              "  }\n",
              "</style>\n",
              "\n",
              "  <script>\n",
              "    async function quickchart(key) {\n",
              "      const quickchartButtonEl =\n",
              "        document.querySelector('#' + key + ' button');\n",
              "      quickchartButtonEl.disabled = true;  // To prevent multiple clicks.\n",
              "      quickchartButtonEl.classList.add('colab-df-spinner');\n",
              "      try {\n",
              "        const charts = await google.colab.kernel.invokeFunction(\n",
              "            'suggestCharts', [key], {});\n",
              "      } catch (error) {\n",
              "        console.error('Error during call to suggestCharts:', error);\n",
              "      }\n",
              "      quickchartButtonEl.classList.remove('colab-df-spinner');\n",
              "      quickchartButtonEl.classList.add('colab-df-quickchart-complete');\n",
              "    }\n",
              "    (() => {\n",
              "      let quickchartButtonEl =\n",
              "        document.querySelector('#df-2f9c1fc0-94a9-4017-967c-cfc1c2a77fc0 button');\n",
              "      quickchartButtonEl.style.display =\n",
              "        google.colab.kernel.accessAllowed ? 'block' : 'none';\n",
              "    })();\n",
              "  </script>\n",
              "</div>\n",
              "    </div>\n",
              "  </div>\n"
            ]
          },
          "metadata": {},
          "execution_count": 11
        }
      ]
    },
    {
      "cell_type": "code",
      "source": [
        "correlation = gold_data.corr()"
      ],
      "metadata": {
        "colab": {
          "base_uri": "https://localhost:8080/"
        },
        "id": "Tre7R0KjuKMg",
        "outputId": "9b1d8f4f-1f2d-4cee-9ead-e149948d1512"
      },
      "execution_count": 12,
      "outputs": [
        {
          "output_type": "stream",
          "name": "stderr",
          "text": [
            "<ipython-input-12-b9d572e5c3ef>:1: FutureWarning: The default value of numeric_only in DataFrame.corr is deprecated. In a future version, it will default to False. Select only valid columns or specify the value of numeric_only to silence this warning.\n",
            "  correlation = gold_data.corr()\n"
          ]
        }
      ]
    },
    {
      "cell_type": "code",
      "source": [
        "plt.figure(figsize = (8,8))\n",
        "sns.heatmap(correlation, cbar = True, square = True, fmt ='.1f', annot = True, annot_kws= {'size':8},cmap = 'Blues' )"
      ],
      "metadata": {
        "colab": {
          "base_uri": "https://localhost:8080/",
          "height": 675
        },
        "id": "crQpiP3CukAU",
        "outputId": "c54c2759-5028-48bb-cd96-d56bdc0f5497"
      },
      "execution_count": 13,
      "outputs": [
        {
          "output_type": "execute_result",
          "data": {
            "text/plain": [
              "<Axes: >"
            ]
          },
          "metadata": {},
          "execution_count": 13
        },
        {
          "output_type": "display_data",
          "data": {
            "text/plain": [
              "<Figure size 800x800 with 2 Axes>"
            ],
            "image/png": "[encoded data removed]"
          },
          "metadata": {}
        }
      ]
    },
    {
      "cell_type": "code",
      "source": [
        "print(correlation['GLD'])"
      ],
      "metadata": {
        "colab": {
          "base_uri": "https://localhost:8080/"
        },
        "id": "aJXKrUZaxF-e",
        "outputId": "7e408176-9442-4e06-8cbd-894f1cbc9636"
      },
      "execution_count": 14,
      "outputs": [
        {
          "output_type": "stream",
          "name": "stdout",
          "text": [
            "SPX        0.049345\n",
            "GLD        1.000000\n",
            "USO       -0.186360\n",
            "SLV        0.866632\n",
            "EUR/USD   -0.024375\n",
            "Name: GLD, dtype: float64\n"
          ]
        }
      ]
    },
    {
      "cell_type": "code",
      "source": [
        "sns.distplot(gold_data['GLD'],color = 'green')"
      ],
      "metadata": {
        "colab": {
          "base_uri": "https://localhost:8080/",
          "height": 662
        },
        "id": "U0ZlHT8_uz1A",
        "outputId": "7cf09d19-450b-441a-bc29-f28a007f0b4f"
      },
      "execution_count": 15,
      "outputs": [
        {
          "output_type": "stream",
          "name": "stderr",
          "text": [
            "<ipython-input-15-b56fe2908e52>:1: UserWarning: \n",
            "\n",
            "`distplot` is a deprecated function and will be removed in seaborn v0.14.0.\n",
            "\n",
            "Please adapt your code to use either `displot` (a figure-level function with\n",
            "similar flexibility) or `histplot` (an axes-level function for histograms).\n",
            "\n",
            "For a guide to updating your code to use the new functions, please see\n",
            "https://gist.github.com/mwaskom/de44147ed2974457ad6372750bbe5751\n",
            "\n",
            "  sns.distplot(gold_data['GLD'],color = 'green')\n"
          ]
        },
        {
          "output_type": "execute_result",
          "data": {
            "text/plain": [
              "<Axes: xlabel='GLD', ylabel='Density'>"
            ]
          },
          "metadata": {},
          "execution_count": 15
        },
        {
          "output_type": "display_data",
          "data": {
            "text/plain": [
              "<Figure size 640x480 with 1 Axes>"
            ],
            "image/png": "[encoded data removed]"
          },
          "metadata": {}
        }
      ]
    },
    {
      "cell_type": "code",
      "source": [
        "#we need to split the data. We need to apply some operations on Gold\n",
        "3 #splitting the features and target\n"
      ],
      "metadata": {
        "id": "-05ADmn1x48A"
      },
      "execution_count": null,
      "outputs": []
    },
    {
      "cell_type": "code",
      "source": [
        "X = gold_data.drop(['Date', 'GLD'], axis = 1)\n",
        "Y = gold_data['GLD']"
      ],
      "metadata": {
        "id": "Pwvr2SG9yVTR"
      },
      "execution_count": 16,
      "outputs": []
    },
    {
      "cell_type": "code",
      "source": [
        "print(X)"
      ],
      "metadata": {
        "colab": {
          "base_uri": "https://localhost:8080/"
        },
        "id": "Z9QIqPwlyrnM",
        "outputId": "9f7e6e21-940c-44dc-df01-97649c35de85"
      },
      "execution_count": 22,
      "outputs": [
        {
          "output_type": "stream",
          "name": "stdout",
          "text": [
            "              SPX        USO      SLV   EUR/USD\n",
            "0     1447.160034  78.470001  15.1800  1.471692\n",
            "1     1447.160034  78.370003  15.2850  1.474491\n",
            "2     1411.630005  77.309998  15.1670  1.475492\n",
            "3     1416.180054  75.500000  15.0530  1.468299\n",
            "4     1390.189941  76.059998  15.5900  1.557099\n",
            "...           ...        ...      ...       ...\n",
            "2285  2671.919922  14.060000  15.5100  1.186789\n",
            "2286  2697.790039  14.370000  15.5300  1.184722\n",
            "2287  2723.070068  14.410000  15.7400  1.191753\n",
            "2288  2730.129883  14.380000  15.5600  1.193118\n",
            "2289  2725.780029  14.405800  15.4542  1.182033\n",
            "\n",
            "[2290 rows x 4 columns]\n"
          ]
        }
      ]
    },
    {
      "cell_type": "code",
      "source": [
        "print(Y)"
      ],
      "metadata": {
        "colab": {
          "base_uri": "https://localhost:8080/"
        },
        "id": "4OZ7TocWy5Dg",
        "outputId": "864627b8-fe5a-4399-fd80-600d2874b25a"
      },
      "execution_count": 17,
      "outputs": [
        {
          "output_type": "stream",
          "name": "stdout",
          "text": [
            "0        84.860001\n",
            "1        85.570000\n",
            "2        85.129997\n",
            "3        84.769997\n",
            "4        86.779999\n",
            "           ...    \n",
            "2285    124.589996\n",
            "2286    124.330002\n",
            "2287    125.180000\n",
            "2288    124.489998\n",
            "2289    122.543800\n",
            "Name: GLD, Length: 2290, dtype: float64\n"
          ]
        }
      ]
    },
    {
      "cell_type": "code",
      "source": [
        "#splitting into training and test data\n",
        "X_train, X_test, Y_train, Y_test = train_test_split(X,Y, test_size = 0.2, random_state = 2)\n",
        "\n",
        "\n"
      ],
      "metadata": {
        "id": "2P3KEtx9WqG2"
      },
      "execution_count": 23,
      "outputs": []
    },
    {
      "cell_type": "code",
      "source": [],
      "metadata": {
        "id": "NcXLzxV5XvWv"
      },
      "execution_count": null,
      "outputs": []
    },
    {
      "cell_type": "markdown",
      "source": [],
      "metadata": {
        "id": "EyA8LdxYrNTc"
      }
    },
    {
      "cell_type": "code",
      "source": [
        "Random Forest Regression\n"
      ],
      "metadata": {
        "id": "ZTbyMw63YYO0"
      },
      "execution_count": null,
      "outputs": []
    },
    {
      "cell_type": "code",
      "source": [
        "  regressor = RandomForestRegressor(n_estimators = 100)"
      ],
      "metadata": {
        "id": "Wxybc83UYaRq"
      },
      "execution_count": 19,
      "outputs": []
    },
    {
      "cell_type": "code",
      "source": [
        "#training the model\n",
        "regressor.fit(X_train, Y_train)\n"
      ],
      "metadata": {
        "colab": {
          "base_uri": "https://localhost:8080/",
          "height": 51
        },
        "id": "fLPb0uNUZHqA",
        "outputId": "4e19d230-d8df-4247-b68c-51cccaa2015d"
      },
      "execution_count": 20,
      "outputs": [
        {
          "output_type": "execute_result",
          "data": {
            "text/plain": [
              "RandomForestRegressor()"
            ],
            "text/html": [
              "<style>#sk-container-id-1 {color: black;background-color: white;}#sk-container-id-1 pre{padding: 0;}#sk-container-id-1 div.sk-toggleable {background-color: white;}#sk-container-id-1 label.sk-toggleable__label {cursor: pointer;display: block;width: 100%;margin-bottom: 0;padding: 0.3em;box-sizing: border-box;text-align: center;}#sk-container-id-1 label.sk-toggleable__label-arrow:before {content: \"▸\";float: left;margin-right: 0.25em;color: #696969;}#sk-container-id-1 label.sk-toggleable__label-arrow:hover:before {color: black;}#sk-container-id-1 div.sk-estimator:hover label.sk-toggleable__label-arrow:before {color: black;}#sk-container-id-1 div.sk-toggleable__content {max-height: 0;max-width: 0;overflow: hidden;text-align: left;background-color: #f0f8ff;}#sk-container-id-1 div.sk-toggleable__content pre {margin: 0.2em;color: black;border-radius: 0.25em;background-color: #f0f8ff;}#sk-container-id-1 input.sk-toggleable__control:checked~div.sk-toggleable__content {max-height: 200px;max-width: 100%;overflow: auto;}#sk-container-id-1 input.sk-toggleable__control:checked~label.sk-toggleable__label-arrow:before {content: \"▾\";}#sk-container-id-1 div.sk-estimator input.sk-toggleable__control:checked~label.sk-toggleable__label {background-color: #d4ebff;}#sk-container-id-1 div.sk-label input.sk-toggleable__control:checked~label.sk-toggleable__label {background-color: #d4ebff;}#sk-container-id-1 input.sk-hidden--visually {border: 0;clip: rect(1px 1px 1px 1px);clip: rect(1px, 1px, 1px, 1px);height: 1px;margin: -1px;overflow: hidden;padding: 0;position: absolute;width: 1px;}#sk-container-id-1 div.sk-estimator {font-family: monospace;background-color: #f0f8ff;border: 1px dotted black;border-radius: 0.25em;box-sizing: border-box;margin-bottom: 0.5em;}#sk-container-id-1 div.sk-estimator:hover {background-color: #d4ebff;}#sk-container-id-1 div.sk-parallel-item::after {content: \"\";width: 100%;border-bottom: 1px solid gray;flex-grow: 1;}#sk-container-id-1 div.sk-label:hover label.sk-toggleable__label {background-color: #d4ebff;}#sk-container-id-1 div.sk-serial::before {content: \"\";position: absolute;border-left: 1px solid gray;box-sizing: border-box;top: 0;bottom: 0;left: 50%;z-index: 0;}#sk-container-id-1 div.sk-serial {display: flex;flex-direction: column;align-items: center;background-color: white;padding-right: 0.2em;padding-left: 0.2em;position: relative;}#sk-container-id-1 div.sk-item {position: relative;z-index: 1;}#sk-container-id-1 div.sk-parallel {display: flex;align-items: stretch;justify-content: center;background-color: white;position: relative;}#sk-container-id-1 div.sk-item::before, #sk-container-id-1 div.sk-parallel-item::before {content: \"\";position: absolute;border-left: 1px solid gray;box-sizing: border-box;top: 0;bottom: 0;left: 50%;z-index: -1;}#sk-container-id-1 div.sk-parallel-item {display: flex;flex-direction: column;z-index: 1;position: relative;background-color: white;}#sk-container-id-1 div.sk-parallel-item:first-child::after {align-self: flex-end;width: 50%;}#sk-container-id-1 div.sk-parallel-item:last-child::after {align-self: flex-start;width: 50%;}#sk-container-id-1 div.sk-parallel-item:only-child::after {width: 0;}#sk-container-id-1 div.sk-dashed-wrapped {border: 1px dashed gray;margin: 0 0.4em 0.5em 0.4em;box-sizing: border-box;padding-bottom: 0.4em;background-color: white;}#sk-container-id-1 div.sk-label label {font-family: monospace;font-weight: bold;display: inline-block;line-height: 1.2em;}#sk-container-id-1 div.sk-label-container {text-align: center;}#sk-container-id-1 div.sk-container {/* jupyter's `normalize.less` sets `[hidden] { display: none; }` but bootstrap.min.css set `[hidden] { display: none !important; }` so we also need the `!important` here to be able to override the default hidden behavior on the sphinx rendered scikit-learn.org. See: https://github.com/scikit-learn/scikit-learn/issues/21755 */display: inline-block !important;position: relative;}#sk-container-id-1 div.sk-text-repr-fallback {display: none;}</style><div id=\"sk-container-id-1\" class=\"sk-top-container\"><div class=\"sk-text-repr-fallback\"><pre>RandomForestRegressor()</pre><b>In a Jupyter environment, please rerun this cell to show the HTML representation or trust the notebook. <br />On GitHub, the HTML representation is unable to render, please try loading this page with nbviewer.org.</b></div><div class=\"sk-container\" hidden><div class=\"sk-item\"><div class=\"sk-estimator sk-toggleable\"><input class=\"sk-toggleable__control sk-hidden--visually\" id=\"sk-estimator-id-1\" type=\"checkbox\" checked><label for=\"sk-estimator-id-1\" class=\"sk-toggleable__label sk-toggleable__label-arrow\">RandomForestRegressor</label><div class=\"sk-toggleable__content\"><pre>RandomForestRegressor()</pre></div></div></div></div></div>"
            ]
          },
          "metadata": {},
          "execution_count": 20
        }
      ]
    },
    {
      "cell_type": "code",
      "source": [
        "#prediction on test data\n",
        "test_data_prediction = regressor.predict(X_test)"
      ],
      "metadata": {
        "id": "2pAG4U0uZeV9"
      },
      "execution_count": 24,
      "outputs": []
    },
    {
      "cell_type": "code",
      "source": [
        "print(test_data_prediction)"
      ],
      "metadata": {
        "colab": {
          "base_uri": "https://localhost:8080/"
        },
        "id": "Ok6MADzeZ1z_",
        "outputId": "337ead08-6ed3-4cf2-bdcd-5550440fa819"
      },
      "execution_count": 25,
      "outputs": [
        {
          "output_type": "stream",
          "name": "stdout",
          "text": [
            "[168.6452997   81.97290012 115.97069969 127.75550076 120.75810157\n",
            " 154.79429742 150.25489862 126.2260004  117.42769882 126.20350025\n",
            " 116.60950118 172.24770078 142.5823982  167.75999828 115.10040019\n",
            " 117.51400053 139.00460267 169.84160074 158.99400329 157.9144002\n",
            " 154.97360056 125.09860022 175.99100036 156.65190328 125.28340031\n",
            "  93.8644999   77.85360035 120.60820004 119.03179887 167.48139924\n",
            "  88.03010008 125.39200011  91.12510083 117.72449991 121.01559926\n",
            " 136.32680012 115.45390142 115.37940106 146.55339969 107.12420082\n",
            " 104.68380272  87.08169819 126.67680063 117.93029972 152.43069916\n",
            " 119.69400006 108.36470005 107.95309808  93.14980033 127.12069787\n",
            "  74.361901   113.68219899 121.12880018 111.22469932 118.76819883\n",
            " 121.14399884 160.01789966 166.99210066 147.16179701  85.80859875\n",
            "  94.33850009  86.720199    90.62070039 119.02550067 126.44180059\n",
            " 127.54020011 168.58220008 122.23509925 117.310699    98.75880033\n",
            " 168.42080053 143.18639884 132.10510263 121.23830215 122.17999924\n",
            " 119.59650067 114.27460163 118.2464007  106.87740092 127.77760067\n",
            " 114.04389944 106.95470004 117.25270054 119.55159882  88.86260045\n",
            "  88.26109885 146.96150164 127.3684999  113.47910018 110.20219841\n",
            " 108.36179888  77.47859917 169.28150204 114.12869908 121.54619912\n",
            " 127.69870173 155.03649799  91.70459969 135.02270093 158.89590419\n",
            " 125.13150055 125.40830081 130.73160146 114.7532011  119.87369985\n",
            "  92.07439994 110.19969884 166.83340003 157.20849946 114.30819963\n",
            " 106.63670137  80.03970002 113.38350033 125.8864007  107.40149923\n",
            " 119.33590092 154.75280274 159.94279924 120.46799962 135.91770289\n",
            " 101.4736999  117.57219797 119.28500028 112.88120063 102.80259913\n",
            " 159.48989796  99.01490018 148.54889958 125.46010094 169.93759935\n",
            " 125.80739905 127.39299741 127.28090082 113.68819938 112.9011009\n",
            " 123.25799925 102.16309904  89.32229972 124.87129948 101.98879925\n",
            " 107.24609938 113.47790082 117.0676008   99.54519948 121.73260066\n",
            " 163.63859918  87.25799856 106.87450009 117.26130099 127.6499008\n",
            " 123.8695006   80.64009932 120.20060042 157.40469868  87.94259964\n",
            " 110.24859937 118.99009911 172.97739872 102.99629864 105.82590035\n",
            " 122.36490061 157.85529816  87.52229827  93.29280029 112.7884003\n",
            " 177.53539999 114.77669964 119.19850049  94.57890111 125.64709993\n",
            " 166.26770077 114.75160086 116.89570139  88.30659865 148.95860121\n",
            " 120.28499934  89.65309967 112.26140007 117.29470048 118.74030134\n",
            "  88.07139928  94.02429981 117.14830002 118.55140193 120.40360042\n",
            " 126.81379804 121.90639971 149.27879975 164.9718007  118.59179952\n",
            " 120.44860178 150.91920083 118.36809942 172.85759849 105.47459919\n",
            " 104.94200144 149.03500137 113.67080066 124.8743009  147.60770023\n",
            " 119.54990149 115.42300038 112.64130013 113.57860208 140.73800089\n",
            " 117.72299786 102.96720061 115.90960116 103.97280191  99.14450042\n",
            " 117.1895009   90.52699983  91.50170067 153.22109919 102.68629947\n",
            " 154.116101   114.40430168 139.49190096  89.99599858 115.41899936\n",
            " 114.82249999 122.48480066 121.72160029 165.28170151  92.9052994\n",
            " 134.96060122 121.25529964 120.93630054 104.61490009 142.89530232\n",
            " 121.85239919 116.66390031 113.28320084 127.18879687 122.98259937\n",
            " 125.86979935 121.18950038  86.72709888 131.9888023  144.90690213\n",
            "  92.68639954 157.99579997 159.35260325 126.54339911 164.82599946\n",
            " 109.06329964 110.23820082 103.75689846  94.3273006  127.78350302\n",
            " 107.07470039 160.45950005 121.73200054 131.91890009 130.84410147\n",
            " 160.48969907  90.04109866 175.89240261 127.4931008  126.76059858\n",
            "  86.49249951 124.57729931 150.37019711  89.65329988 107.0047001\n",
            " 108.98539976  84.69249908 135.96269997 155.20020249 140.14210287\n",
            "  74.29610041 151.56930149 126.04990041 126.69510024 127.4814985\n",
            " 108.75159963 156.00419963 114.424401   117.12110159 125.68579995\n",
            " 154.08780172 121.42869981 156.46119833  92.91300052 125.41140145\n",
            " 125.77500041  87.97190059  92.2258996  126.30029918 128.17130356\n",
            " 113.19860033 117.6242977  120.94789992 127.17549773 120.31340125\n",
            " 136.34710022  93.89849939 119.7964006  113.43110132  94.35109928\n",
            " 108.82690011  87.13439935 108.72829936  89.68279964  92.41340035\n",
            " 131.6330031  162.33420097  89.21519986 119.70930072 133.33750157\n",
            " 123.73860014 128.04370156 102.00799859  89.08539861 131.63700042\n",
            " 120.94110056 108.40760022 166.98430144 115.19920043  86.55079885\n",
            " 118.84890067  91.07659962 161.84389997 116.33320048 121.69389992\n",
            " 160.41869754 120.20769942 112.78939936 108.48979883 126.71559958\n",
            "  75.82100054 103.01939975 127.75880274 121.84999941  92.55779998\n",
            " 132.0362006  118.12880079 115.70120001 154.35870307 159.98030046\n",
            " 109.81049993 154.98159847 119.33030086 160.29170121 118.51800017\n",
            " 158.62479896 115.06489936 116.47020023 147.92569916 114.86920054\n",
            " 126.10079863 166.47479891 117.66550011 125.05459963 153.389204\n",
            " 153.4035023  131.97120111 114.8589004  121.18420177 124.92370083\n",
            "  89.91230053 123.19889974 154.61220185 111.5514002  106.80949996\n",
            " 162.00340077 118.4054995  165.84080014 134.17000126 115.26869983\n",
            " 153.1165994  168.66970078 114.87369995 114.14330131 158.13629897\n",
            "  85.12849898 127.11220023 127.79900076 128.84500026 124.60910099\n",
            " 123.89930052  90.69490073 153.26110042  96.92880003 136.50679997\n",
            "  89.36449905 106.80280008 115.15560072 112.50810102 124.49239914\n",
            "  91.35249867 125.44830147 162.15759943 119.85989929 165.19120158\n",
            " 126.87239787 112.49640017 127.61049923  95.05489873  91.08010004\n",
            " 103.36469892 120.95719993  83.03199951 126.38010003 159.7835044\n",
            " 117.16250078 118.42829983 119.72619991 122.63839965 119.96040145\n",
            " 121.65530027 118.47150065 107.06640018 148.33800011 126.57089821\n",
            " 115.70040089  74.33289968 127.84890144 153.17100092 122.20589976\n",
            " 125.56250046  88.83690037 103.70109902 124.4789004  120.25200036\n",
            "  73.38220099 151.86729952 121.12870046 104.59680035  86.52339769\n",
            " 114.99929926 172.21799821 119.86250046 159.9428978  113.20129957\n",
            " 121.56169997 118.47810083  96.03099975 118.55589985 126.02460044\n",
            " 118.45949924  95.80340064 153.74420172 122.36729988 147.58259959\n",
            " 159.19740208 113.85960036 122.48839947 149.25909769 126.75200033\n",
            " 165.84760045 135.16880053 119.91399977 167.405899   108.30619904\n",
            " 121.76359893 139.05680024 107.68519909]\n"
          ]
        }
      ]
    },
    {
      "cell_type": "code",
      "source": [
        "error_score = metrics.r2_score(Y_test, test_data_prediction)\n",
        "print(\"R squared error : \", error_score)"
      ],
      "metadata": {
        "colab": {
          "base_uri": "https://localhost:8080/"
        },
        "id": "2N6GtmMjZ8MH",
        "outputId": "299c6303-8517-4df2-9040-1d646f23ce85"
      },
      "execution_count": 26,
      "outputs": [
        {
          "output_type": "stream",
          "name": "stdout",
          "text": [
            "R squared error :  0.9893197558478525\n"
          ]
        }
      ]
    },
    {
      "cell_type": "code",
      "source": [
        "#compare the actual and predicted values\n",
        "Y_test = list(Y_test)"
      ],
      "metadata": {
        "id": "_oxTWS7Wa_AL"
      },
      "execution_count": 27,
      "outputs": []
    },
    {
      "cell_type": "code",
      "source": [
        "plt.plot(Y_test, color = 'blue', label = 'Actual_value')\n",
        "plt.plot(test_data_prediction, color = 'green', label = 'Predicted value')\n",
        "plt.title(\"Actual price vs predicted price\")\n",
        "plt.xlabel(\"Number of values\")\n",
        "plt.ylabel(\"GLD values\")\n",
        "plt.legend()\n",
        "plt.show()"
      ],
      "metadata": {
        "colab": {
          "base_uri": "https://localhost:8080/",
          "height": 472
        },
        "id": "T9aY4a45bS9F",
        "outputId": "89eb3ac6-3d52-4bb4-e471-e7d7c59a46a6"
      },
      "execution_count": 28,
      "outputs": [
        {
          "output_type": "display_data",
          "data": {
            "text/plain": [
              "<Figure size 640x480 with 1 Axes>"
            ],
            "image/png": "[encoded data removed]"
          },
          "metadata": {}
        }
      ]
    }
  ]
}